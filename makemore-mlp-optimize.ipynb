{
 "cells": [
  {
   "cell_type": "code",
   "execution_count": 43,
   "metadata": {},
   "outputs": [],
   "source": [
    "import torch\n",
    "import torch.nn.functional as F\n",
    "import matplotlib.pyplot as plt # for making figures\n",
    "%matplotlib inline"
   ]
  },
  {
   "cell_type": "code",
   "execution_count": 44,
   "metadata": {},
   "outputs": [
    {
     "data": {
      "text/plain": [
       "['emma', 'olivia', 'ava', 'isabella', 'sophia', 'charlotte', 'mia', 'amelia']"
      ]
     },
     "execution_count": 44,
     "metadata": {},
     "output_type": "execute_result"
    }
   ],
   "source": [
    "# read in all the words\n",
    "words = open('names.txt', 'r').read().splitlines()\n",
    "words[:8]"
   ]
  },
  {
   "cell_type": "code",
   "execution_count": 45,
   "metadata": {},
   "outputs": [
    {
     "data": {
      "text/plain": [
       "32033"
      ]
     },
     "execution_count": 45,
     "metadata": {},
     "output_type": "execute_result"
    }
   ],
   "source": [
    "len(words)"
   ]
  },
  {
   "cell_type": "code",
   "execution_count": 46,
   "metadata": {},
   "outputs": [
    {
     "name": "stdout",
     "output_type": "stream",
     "text": [
      "{1: 'a', 2: 'b', 3: 'c', 4: 'd', 5: 'e', 6: 'f', 7: 'g', 8: 'h', 9: 'i', 10: 'j', 11: 'k', 12: 'l', 13: 'm', 14: 'n', 15: 'o', 16: 'p', 17: 'q', 18: 'r', 19: 's', 20: 't', 21: 'u', 22: 'v', 23: 'w', 24: 'x', 25: 'y', 26: 'z', 0: '.'}\n",
      "27\n"
     ]
    }
   ],
   "source": [
    "# build the vocabulary of characters and mappings to/from integers\n",
    "chars = sorted(list(set(''.join(words))))\n",
    "stoi = {s:i+1 for i,s in enumerate(chars)}\n",
    "stoi['.'] = 0\n",
    "itos = {i:s for s,i in stoi.items()}\n",
    "vocab_size = len(itos)\n",
    "print(itos)\n",
    "print(vocab_size)"
   ]
  },
  {
   "cell_type": "code",
   "execution_count": 47,
   "metadata": {},
   "outputs": [
    {
     "name": "stdout",
     "output_type": "stream",
     "text": [
      "torch.Size([182625, 3]) torch.Size([182625])\n",
      "torch.Size([22655, 3]) torch.Size([22655])\n",
      "torch.Size([22866, 3]) torch.Size([22866])\n"
     ]
    }
   ],
   "source": [
    "# build the dataset\n",
    "block_size = 3 # context length: how many characters do we take to predict the next one?\n",
    "\n",
    "def build_dataset(words):  \n",
    "  X, Y = [], []\n",
    "  \n",
    "  for w in words:\n",
    "    context = [0] * block_size\n",
    "    for ch in w + '.':\n",
    "      ix = stoi[ch]\n",
    "      X.append(context)\n",
    "      Y.append(ix)\n",
    "      context = context[1:] + [ix] # crop and append\n",
    "\n",
    "  X = torch.tensor(X)\n",
    "  Y = torch.tensor(Y)\n",
    "  print(X.shape, Y.shape)\n",
    "  return X, Y\n",
    "\n",
    "import random\n",
    "random.seed(42)\n",
    "random.shuffle(words)\n",
    "n1 = int(0.8*len(words))\n",
    "n2 = int(0.9*len(words))\n",
    "\n",
    "Xtr,  Ytr  = build_dataset(words[:n1])     # 80%\n",
    "Xdev, Ydev = build_dataset(words[n1:n2])   # 10%\n",
    "Xte,  Yte  = build_dataset(words[n2:])     # 10%\n"
   ]
  },
  {
   "cell_type": "code",
   "execution_count": 48,
   "metadata": {},
   "outputs": [
    {
     "name": "stdout",
     "output_type": "stream",
     "text": [
      "12097\n"
     ]
    }
   ],
   "source": [
    "# MLP revisited\n",
    "n_embd = 10 # the dimensionality of the character embedding vectors\n",
    "n_hidden = 200 # the number of neurons in the hidden layer of the MLP\n",
    "\n",
    "g = torch.Generator().manual_seed(2147483647) # for reproducibility\n",
    "C  = torch.randn((vocab_size, n_embd),            generator=g)\n",
    "W1 = torch.randn((n_embd * block_size, n_hidden), generator=g) * (5/3)/((n_embd * block_size)**0.5) #* 0.2\n",
    "#b1 = torch.randn(n_hidden,                        generator=g) * 0.01\n",
    "W2 = torch.randn((n_hidden, vocab_size),          generator=g) * 0.01 # brings logits closer to zero for first iteration\n",
    "b2 = torch.randn(vocab_size,                      generator=g) * 0 # make sure b2 is zero at initialization\n",
    "\n",
    "# BatchNorm parameters\n",
    "bngain = torch.ones((1, n_hidden))\n",
    "bnbias = torch.zeros((1, n_hidden))\n",
    "bnmean_running = torch.zeros((1, n_hidden))\n",
    "bnstd_running = torch.ones((1, n_hidden))\n",
    "\n",
    "parameters = [C, W1, W2, b2, bngain, bnbias]\n",
    "print(sum(p.nelement() for p in parameters)) # number of parameters in total\n",
    "for p in parameters:\n",
    "  p.requires_grad = True"
   ]
  },
  {
   "cell_type": "code",
   "execution_count": 49,
   "metadata": {},
   "outputs": [
    {
     "name": "stdout",
     "output_type": "stream",
     "text": [
      "      0/ 200000: 3.3239\n"
     ]
    }
   ],
   "source": [
    "# same optimization as last time\n",
    "max_steps = 200000\n",
    "batch_size = 32\n",
    "lossi = []\n",
    "\n",
    "for i in range(max_steps):\n",
    "  \n",
    "  # minibatch construct\n",
    "  ix = torch.randint(0, Xtr.shape[0], (batch_size,), generator=g)\n",
    "  Xb, Yb = Xtr[ix], Ytr[ix] # batch X,Y\n",
    "  \n",
    "  # forward pass\n",
    "  emb = C[Xb] # embed the characters into vectors\n",
    "  embcat = emb.view(emb.shape[0], -1) # concatenate the vectors\n",
    "  # Linear layer\n",
    "  hpreact = embcat @ W1 #+ b1 # hidden layer pre-activation\n",
    "  # BatchNorm layer\n",
    "  # -------------------------------------------------------------\n",
    "  bnmeani = hpreact.mean(0, keepdim=True)\n",
    "  bnstdi = hpreact.std(0, keepdim=True)\n",
    "  hpreact = bngain * (hpreact - bnmeani) / bnstdi + bnbias\n",
    "  with torch.no_grad():\n",
    "    bnmean_running = 0.999 * bnmean_running + 0.001 * bnmeani\n",
    "    bnstd_running = 0.999 * bnstd_running + 0.001 * bnstdi\n",
    "  # -------------------------------------------------------------\n",
    "  # Non-linearity\n",
    "  h = torch.tanh(hpreact) # hidden layer\n",
    "  logits = h @ W2 + b2 # output layer\n",
    "  loss = F.cross_entropy(logits, Yb) # loss function\n",
    "  \n",
    "  # backward pass\n",
    "  for p in parameters:\n",
    "    p.grad = None\n",
    "  loss.backward()\n",
    "  \n",
    "  # update\n",
    "  lr = 0.1 if i < 100000 else 0.01 # step learning rate decay\n",
    "  for p in parameters:\n",
    "    p.data += -lr * p.grad\n",
    "\n",
    "  # track stats\n",
    "  if i % 10000 == 0: # print every once in a while\n",
    "    print(f'{i:7d}/{max_steps:7d}: {loss.item():.4f}')\n",
    "  lossi.append(loss.log10().item())\n",
    "\n",
    "  # TODO REMOVE ME\n",
    "  break"
   ]
  },
  {
   "cell_type": "code",
   "execution_count": 50,
   "metadata": {},
   "outputs": [
    {
     "data": {
      "text/plain": [
       "<matplotlib.image.AxesImage at 0x14a8c90a0>"
      ]
     },
     "execution_count": 50,
     "metadata": {},
     "output_type": "execute_result"
    },
    {
     "data": {
      "image/png": "[encoded data removed]",
      "text/plain": [
       "<Figure size 2000x1000 with 1 Axes>"
      ]
     },
     "metadata": {},
     "output_type": "display_data"
    }
   ],
   "source": [
    "# to see if our model is good, we calculate what we expect for the loss in the first round\n",
    "# for 27 characters that could come next, we can expect uniform probability for all 27 characters\n",
    "# -> negative log probability of this is:\n",
    "-torch.tensor(1/27.0).log()\n",
    "\n",
    "# to optimize the model need to look at each layer\n",
    "\n",
    "# 1) fixing logits at initialization\n",
    "# the first layer has distributions in w2/b2 has values that are too big, so we see large values in logits\n",
    "# so the weights and bias initialization can be tuned to help with the first training round if the values are closer to 0-1\n",
    "#W2 = torch.randn((n_hidden, vocab_size),          generator=g) * 0.01 # brings logits closer to zero for first iteration\n",
    "#b2 = torch.randn(vocab_size,                      generator=g) * 0 # make sure b2 is zero at initialization\n",
    "# we do not want to set Ws to 0, only biases, things can go wrong with initial zeros on weights\n",
    "\n",
    "# 2) optimizing distribution in h (tanh layer is too saturated at init)\n",
    "#  looking at h to see if we have most of values at 1 or -1, so have a lot of values at the borders of tanh\n",
    "# plt.hist(h.view(-1).tolist(), 50)\n",
    "# we can also look at the pre reaction how the distributin looks\n",
    "# plt.hist(hpreact.view(-1).tolist(), 50)\n",
    "# tanh with values close to 1 or -1 just drop the gradient on backwards\n",
    "# so we want a good distribution of the values\n",
    "# visualize, white = true, black = false\n",
    "plt.figure(figsize=(20,10)) \n",
    "plt.imshow(h.abs() > 0.99, cmap='gray', interpolation='nearest')\n",
    "# so we want to see only a few white ones. White neurons are basically \"dead neurons\"\n",
    "# we need to make sure that this does not happen on initialization\n",
    "# but also during training. If you change the W/b are never triggering activation functions, the neuron is also \"dead\"\n",
    "# fix is again to smaller the W1, b1\n",
    "# W1 = torch.randn((n_embd * block_size, n_hidden), generator=g) * 0.2\n",
    "# b1 = torch.randn(n_hidden,                        generator=g) * 0.01"
   ]
  },
  {
   "cell_type": "code",
   "execution_count": 51,
   "metadata": {},
   "outputs": [
    {
     "data": {
      "text/plain": [
       "[<matplotlib.lines.Line2D at 0x46480af60>]"
      ]
     },
     "execution_count": 51,
     "metadata": {},
     "output_type": "execute_result"
    },
    {
     "data": {
      "image/png": "[encoded data removed]",
      "text/plain": [
       "<Figure size 640x480 with 1 Axes>"
      ]
     },
     "metadata": {},
     "output_type": "display_data"
    }
   ],
   "source": [
    "plt.plot(lossi)\n",
    "# we don't want to see a hockey-stick here (first iteration is massively going down at first)"
   ]
  },
  {
   "cell_type": "code",
   "execution_count": 52,
   "metadata": {},
   "outputs": [],
   "source": [
    "# calibrate the batch norm at the end of training\n",
    "with torch.no_grad():\n",
    "  # pass the training set through\n",
    "  emb = C[Xtr]\n",
    "  embcat = emb.view(emb.shape[0], -1)\n",
    "  hpreact = embcat @ W1 # + b1\n",
    "  # measure the mean/std over the entire training set\n",
    "  bnmean = hpreact.mean(0, keepdim=True)\n",
    "  bnstd = hpreact.std(0, keepdim=True)\n"
   ]
  },
  {
   "cell_type": "code",
   "execution_count": 53,
   "metadata": {},
   "outputs": [
    {
     "name": "stdout",
     "output_type": "stream",
     "text": [
      "train 3.270019769668579\n",
      "val 3.269137144088745\n"
     ]
    }
   ],
   "source": [
    "@torch.no_grad() # this decorator disables gradient tracking\n",
    "def split_loss(split):\n",
    "  x,y = {\n",
    "    'train': (Xtr, Ytr),\n",
    "    'val': (Xdev, Ydev),\n",
    "    'test': (Xte, Yte),\n",
    "  }[split]\n",
    "  emb = C[x] # (N, block_size, n_embd)\n",
    "  embcat = emb.view(emb.shape[0], -1) # concat into (N, block_size * n_embd)\n",
    "  hpreact = embcat @ W1 # + b1\n",
    "  #hpreact = bngain * (hpreact - hpreact.mean(0, keepdim=True)) / hpreact.std(0, keepdim=True) + bnbias\n",
    "  hpreact = bngain * (hpreact - bnmean_running) / bnstd_running + bnbias\n",
    "  h = torch.tanh(hpreact) # (N, n_hidden)\n",
    "  logits = h @ W2 + b2 # (N, vocab_size)\n",
    "  loss = F.cross_entropy(logits, y)\n",
    "  print(split, loss.item())\n",
    "\n",
    "split_loss('train')\n",
    "split_loss('val')"
   ]
  },
  {
   "cell_type": "code",
   "execution_count": 55,
   "metadata": {},
   "outputs": [
    {
     "name": "stdout",
     "output_type": "stream",
     "text": [
      "tensor(0.0017) tensor(0.9886)\n",
      "tensor(0.0076) tensor(3.1632)\n"
     ]
    },
    {
     "data": {
      "text/plain": [
       "(array([6.76091640e-06, 0.00000000e+00, 6.76091640e-06, 2.02827492e-05,\n",
       "        6.76091640e-05, 5.40873312e-05, 1.82544743e-04, 2.29871158e-04,\n",
       "        4.12415901e-04, 5.81438811e-04, 1.16287762e-03, 1.79840376e-03,\n",
       "        2.75845389e-03, 4.72588057e-03, 7.98464227e-03, 1.20952794e-02,\n",
       "        1.76324700e-02, 2.75372125e-02, 3.86048327e-02, 5.46958137e-02,\n",
       "        7.27880260e-02, 9.26989248e-02, 1.13691570e-01, 1.29234917e-01,\n",
       "        1.35468482e-01, 1.33757970e-01, 1.21622125e-01, 1.02745647e-01,\n",
       "        8.17056747e-02, 6.24776285e-02, 4.53454663e-02, 3.12016292e-02,\n",
       "        2.13239303e-02, 1.36097247e-02, 8.85003957e-03, 5.84819269e-03,\n",
       "        3.59004661e-03, 2.27166791e-03, 1.43331428e-03, 6.96374389e-04,\n",
       "        4.59742315e-04, 3.11002155e-04, 1.89305659e-04, 1.08174662e-04,\n",
       "        9.46528296e-05, 2.02827492e-05, 2.70436656e-05, 6.76091640e-06,\n",
       "        2.02827492e-05, 2.70436656e-05]),\n",
       " array([-18.26543045, -17.52588573, -16.78634102, -16.0467963 ,\n",
       "        -15.30725159, -14.56770687, -13.82816216, -13.08861744,\n",
       "        -12.34907272, -11.60952801, -10.86998329, -10.13043858,\n",
       "         -9.39089386,  -8.65134914,  -7.91180443,  -7.17225971,\n",
       "         -6.432715  ,  -5.69317028,  -4.95362556,  -4.21408085,\n",
       "         -3.47453613,  -2.73499142,  -1.9954467 ,  -1.25590199,\n",
       "         -0.51635727,   0.22318745,   0.96273216,   1.70227688,\n",
       "          2.44182159,   3.18136631,   3.92091103,   4.66045574,\n",
       "          5.40000046,   6.13954517,   6.87908989,   7.61863461,\n",
       "          8.35817932,   9.09772404,   9.83726875,  10.57681347,\n",
       "         11.31635818,  12.0559029 ,  12.79544762,  13.53499233,\n",
       "         14.27453705,  15.01408176,  15.75362648,  16.4931712 ,\n",
       "         17.23271591,  17.97226063,  18.71180534]),\n",
       " <BarContainer object of 50 artists>)"
      ]
     },
     "execution_count": 55,
     "metadata": {},
     "output_type": "execute_result"
    },
    {
     "data": {
      "image/png": "[encoded data removed]",
      "text/plain": [
       "<Figure size 2000x500 with 2 Axes>"
      ]
     },
     "metadata": {},
     "output_type": "display_data"
    }
   ],
   "source": [
    "# 3) how can we do the modifications more determined instead of random guesses\n",
    "\n",
    "x = torch.randn(1000, 10)\n",
    "w = torch.randn(10, 200)\n",
    "y = x @ w\n",
    "print(x.mean(), x.std())\n",
    "print(y.mean(), y.std())\n",
    "plt.figure(figsize=(20, 5))\n",
    "plt.subplot(121)\n",
    "plt.hist(x.view(-1).tolist(), 50, density=True)\n",
    "plt.subplot(122)\n",
    "plt.hist(y.view(-1).tolist(), 50, density=True)\n",
    "\n",
    "# when we multiply neuron * weights, we widen the gaussian distribution\n",
    "# but we want narrow distribution in MLPs\n",
    "# for this we can smaller the weights again using the square root of the inputs\n",
    "# e.g.\n",
    "# w = torch.randn(10, 200) / 10**0.5 # (square root)\n",
    "\n",
    "# we can do even better, looking at the exact std gain, that is based on the\n",
    "# linearity mode. For tanh it is (5/3) / fan_in**0.5\n",
    "# W1 = torch.randn((n_embd * block_size, n_hidden), generator=g) * (5/3)/((n_embd * block_size)**0.5) #* 0.2"
   ]
  },
  {
   "cell_type": "code",
   "execution_count": 57,
   "metadata": {},
   "outputs": [],
   "source": [
    "# today this is solved within pytorch and other libraries, so you can initialize\n",
    "# models without considering a lot of this\n"
   ]
  },
  {
   "cell_type": "code",
   "execution_count": null,
   "metadata": {},
   "outputs": [],
   "source": [
    "# people have frist started using batch-normalization\n",
    "# there you do redistribute the values to gaussian before inputting to tanh\n",
    "# because we do normalization on the layer, there is no need for bias as it is going to be subtracted anyway\n",
    "# b1 can be omitted in our example here"
   ]
  }
 ],
 "metadata": {
  "kernelspec": {
   "display_name": "Python 3",
   "language": "python",
   "name": "python3"
  },
  "language_info": {
   "codemirror_mode": {
    "name": "ipython",
    "version": 3
   },
   "file_extension": ".py",
   "mimetype": "text/x-python",
   "name": "python",
   "nbconvert_exporter": "python",
   "pygments_lexer": "ipython3",
   "version": "3.12.1"
  }
 },
 "nbformat": 4,
 "nbformat_minor": 2
}
